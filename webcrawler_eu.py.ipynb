{
 "cells": [
  {
   "cell_type": "code",
   "execution_count": 1,
   "id": "ccb767dd",
   "metadata": {},
   "outputs": [
    {
     "name": "stdout",
     "output_type": "stream",
     "text": [
      "Starting with url=['https://www.europarl.europa.eu/news/en/press-room/page/0']\n",
      "num. of URLs seen = 34, and scanned = 34\n",
      "num. of URLs contain crisis and related to plenary sessions = 10\n",
      "List of crisis URLs related to plenary sessions:\n",
      "https://www.europarl.europa.eu/news/en/press-room/page/1\n",
      "https://www.europarl.europa.eu/news/en/press-room/page/2\n",
      "https://www.europarl.europa.eu/news/en/press-room/page/9\n",
      "https://www.europarl.europa.eu/news/en/press-room/page/18\n",
      "https://www.europarl.europa.eu/news/en/press-room/page/19\n",
      "https://www.europarl.europa.eu/news/en/press-room/page/24\n",
      "https://www.europarl.europa.eu/news/en/press-room/page/25\n",
      "https://www.europarl.europa.eu/news/en/press-room/page/30\n",
      "https://www.europarl.europa.eu/news/en/press-room/page/32\n",
      "https://www.europarl.europa.eu/news/en/press-room/page/33\n"
     ]
    }
   ],
   "source": [
    "from bs4 import BeautifulSoup\n",
    "import urllib.request\n",
    "import urllib.parse\n",
    "\n",
    "base_url = \"https://www.europarl.europa.eu/news/en/press-room/page/\"\n",
    "page_number = 0\n",
    "urls = [base_url + str(page_number)]\n",
    "seen = [base_url + str(page_number)]\n",
    "opened = []\n",
    "crisis_links = []\n",
    "\n",
    "maxNumUrl = 150\n",
    "print(\"Starting with url=\" + str(urls))\n",
    "\n",
    "while len(urls) > 0 and len(crisis_links) < 10 and len(opened) < maxNumUrl:\n",
    "    try:\n",
    "        curr_url = urls.pop(0)\n",
    "        req = urllib.request.Request(curr_url, headers={'User-Agent': 'Mozilla/5.0'})\n",
    "        webpage = urllib.request.urlopen(req).read()\n",
    "        opened.append(curr_url)\n",
    "\n",
    "    except Exception as ex:\n",
    "        print(\"Unable to access= \" + curr_url)\n",
    "        print(ex)\n",
    "        continue\n",
    "\n",
    "    soup = BeautifulSoup(webpage, 'html.parser')\n",
    "\n",
    "    text = soup.get_text().lower().replace('-', ' ').replace(',', ' ').replace('.', ' ').replace('\\n', ' ').split()\n",
    "    plenary_session_tag = soup.find('span', class_='ep_name', text='Plenary session')\n",
    "    if 'crisis' in text and plenary_session_tag:\n",
    "        crisis_links.append(curr_url)\n",
    "\n",
    "    for tag in soup.find_all('a', href=True):\n",
    "        childUrl = tag['href']\n",
    "        childUrl = urllib.parse.urljoin(base_url, childUrl)\n",
    "        if base_url in childUrl and childUrl not in seen:\n",
    "            urls.append(childUrl)\n",
    "            seen.append(childUrl)\n",
    "\n",
    "    if len(crisis_links) < 10:\n",
    "        page_number += 1\n",
    "        next_page_url = base_url + str(page_number)\n",
    "        if next_page_url not in seen:\n",
    "            urls.append(next_page_url)\n",
    "            seen.append(next_page_url)\n",
    "\n",
    "print(\"num. of URLs seen = %d, and scanned = %d\" % (len(seen), len(opened)))\n",
    "print(f'num. of URLs contain crisis and related to plenary sessions = {len(crisis_links)}')\n",
    "\n",
    "print(\"List of crisis URLs related to plenary sessions:\")\n",
    "for crisis_url in crisis_links:\n",
    "    print(crisis_url)"
   ]
  }
 ],
 "metadata": {
  "kernelspec": {
   "display_name": "Python 3 (ipykernel)",
   "language": "python",
   "name": "python3"
  },
  "language_info": {
   "codemirror_mode": {
    "name": "ipython",
    "version": 3
   },
   "file_extension": ".py",
   "mimetype": "text/x-python",
   "name": "python",
   "nbconvert_exporter": "python",
   "pygments_lexer": "ipython3",
   "version": "3.9.7"
  }
 },
 "nbformat": 4,
 "nbformat_minor": 5
}
