{
 "cells": [
  {
   "cell_type": "code",
   "execution_count": 1,
   "id": "76626802",
   "metadata": {},
   "outputs": [
    {
     "name": "stdout",
     "output_type": "stream",
     "text": [
      "Starting with url=['https://press.un.org/en']\n",
      "num. of URLs seen = 149, and scanned = 16\n",
      "num. of URLs contain crisis = 10\n",
      "List of crisis URLs:\n",
      "https://press.un.org/en\n",
      "https://press.un.org/en/content/secretary-general\n",
      "https://press.un.org/en/content/secretary-general/press-release\n",
      "https://press.un.org/en/content/secretary-general/press-conference\n",
      "https://press.un.org/en/content/general-assembly\n",
      "https://press.un.org/en/content/general-assembly/meetings-coverage\n",
      "https://press.un.org/en/content/security-council\n",
      "https://press.un.org/en/content/security-council/meetings-coverage\n",
      "https://press.un.org/en/content/economic-and-social-council/press-release\n",
      "https://press.un.org/en/2023/gaspd779.doc.htm\n"
     ]
    }
   ],
   "source": [
    "from bs4 import BeautifulSoup\n",
    "import urllib.request\n",
    "import urllib.parse\n",
    "\n",
    "seed_url = \"https://press.un.org/en\"\n",
    "real_url = 'https://press.un.org/en/'\n",
    "\n",
    "urls = [seed_url]\n",
    "seen = [seed_url]\n",
    "opened = []\n",
    "crisis_links = []\n",
    "\n",
    "maxNumUrl = 150\n",
    "print(\"Starting with url=\" + str(urls))\n",
    "\n",
    "while len(urls) > 0 and len(crisis_links) < 10 and len(opened) < maxNumUrl:\n",
    "    try:\n",
    "        curr_url = urls.pop(0)\n",
    "        req = urllib.request.Request(curr_url, headers={'User-Agent': 'Mozilla/5.0'})\n",
    "        webpage = urllib.request.urlopen(req).read()\n",
    "        opened.append(curr_url)\n",
    "\n",
    "    except Exception as ex:\n",
    "        print(\"Unable to access= \" + curr_url)\n",
    "        print(ex)\n",
    "        continue\n",
    "\n",
    "    soup = BeautifulSoup(webpage, 'html.parser')\n",
    "\n",
    "    text = soup.get_text().lower().replace('-', ' ').replace(',', ' ').replace('.', ' ').replace('\\n', ' ').split()\n",
    "    if 'crisis' in text:\n",
    "        crisis_links.append(curr_url)\n",
    "\n",
    "    for tag in soup.find_all('a', href=True):\n",
    "        childUrl = tag['href']\n",
    "        childUrl = urllib.parse.urljoin(seed_url, childUrl)\n",
    "        if real_url in childUrl and childUrl not in seen:\n",
    "            urls.append(childUrl)\n",
    "            seen.append(childUrl)\n",
    "\n",
    "print(\"num. of URLs seen = %d, and scanned = %d\" % (len(seen), len(opened)))\n",
    "print(f'num. of URLs contain crisis = {len(crisis_links)}')\n",
    "\n",
    "print(\"List of crisis URLs:\")\n",
    "for crisis_url in crisis_links:\n",
    "    print(crisis_url)"
   ]
  }
 ],
 "metadata": {
  "kernelspec": {
   "display_name": "Python 3 (ipykernel)",
   "language": "python",
   "name": "python3"
  },
  "language_info": {
   "codemirror_mode": {
    "name": "ipython",
    "version": 3
   },
   "file_extension": ".py",
   "mimetype": "text/x-python",
   "name": "python",
   "nbconvert_exporter": "python",
   "pygments_lexer": "ipython3",
   "version": "3.9.7"
  }
 },
 "nbformat": 4,
 "nbformat_minor": 5
}
